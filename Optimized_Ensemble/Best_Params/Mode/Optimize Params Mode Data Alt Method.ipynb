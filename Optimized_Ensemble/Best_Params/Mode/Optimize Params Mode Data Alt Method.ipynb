{
 "cells": [
  {
   "cell_type": "markdown",
   "metadata": {},
   "source": [
    "# Ensemble Classifier Mode Data"
   ]
  },
  {
   "cell_type": "markdown",
   "metadata": {},
   "source": [
    "# Import Libraries"
   ]
  },
  {
   "cell_type": "code",
   "execution_count": 1,
   "metadata": {
    "collapsed": true
   },
   "outputs": [],
   "source": [
    "import pandas as pd, numpy as np\n",
    "from sklearn.ensemble import BaggingClassifier\n",
    "from sklearn.model_selection import GridSearchCV\n",
    "from sklearn.model_selection import train_test_split\n",
    "\n",
    "from sklearn.ensemble import RandomForestClassifier\n",
    "from sklearn.neighbors import KNeighborsClassifier\n",
    "from sklearn.naive_bayes import GaussianNB\n",
    "from sklearn.linear_model import LogisticRegression\n",
    "from sklearn.svm import SVC\n",
    "\n",
    "from sklearn.metrics import accuracy_score, precision_score, recall_score, f1_score, confusion_matrix\n",
    "\n",
    "from scipy import stats"
   ]
  },
  {
   "cell_type": "code",
   "execution_count": 2,
   "metadata": {
    "collapsed": false
   },
   "outputs": [],
   "source": [
    "df_train = pd.read_csv('mode_train.csv', index_col = 0)\n",
    "df_test = pd.read_csv('mode_test.csv', index_col = 0)"
   ]
  },
  {
   "cell_type": "code",
   "execution_count": 3,
   "metadata": {
    "collapsed": false
   },
   "outputs": [
    {
     "data": {
      "text/plain": [
       "True"
      ]
     },
     "execution_count": 3,
     "metadata": {},
     "output_type": "execute_result"
    }
   ],
   "source": [
    "len(df_train.columns) == len(df_test.columns)"
   ]
  },
  {
   "cell_type": "code",
   "execution_count": 4,
   "metadata": {
    "collapsed": false
   },
   "outputs": [
    {
     "name": "stdout",
     "output_type": "stream",
     "text": [
      "32561 16281\n"
     ]
    }
   ],
   "source": [
    "print(len(df_train), len(df_test))"
   ]
  },
  {
   "cell_type": "markdown",
   "metadata": {},
   "source": [
    "# Separate Data into X and y"
   ]
  },
  {
   "cell_type": "code",
   "execution_count": 5,
   "metadata": {
    "collapsed": true
   },
   "outputs": [],
   "source": [
    "X_train = df_train.iloc[:,:-1]\n",
    "y_train = df_train.iloc[:,-1]"
   ]
  },
  {
   "cell_type": "code",
   "execution_count": 6,
   "metadata": {
    "collapsed": true
   },
   "outputs": [],
   "source": [
    "X_train, X_test, y_train, y_test = train_test_split(X_train, y_train, random_state = 42)"
   ]
  },
  {
   "cell_type": "markdown",
   "metadata": {},
   "source": [
    "# KNN"
   ]
  },
  {
   "cell_type": "code",
   "execution_count": 7,
   "metadata": {
    "collapsed": true
   },
   "outputs": [],
   "source": [
    "def knn_run(x_train, x_test, y_train, y_test, k):\n",
    "    \n",
    "    knn = KNeighborsClassifier(n_neighbors = k).fit(x_train, y_train)\n",
    "    y_pred = knn.predict(x_test)\n",
    "    y_accuracy = accuracy_score(y_pred, y_test)\n",
    "    \n",
    "    return (k, y_accuracy)"
   ]
  },
  {
   "cell_type": "code",
   "execution_count": 8,
   "metadata": {
    "collapsed": true
   },
   "outputs": [],
   "source": [
    "knn_accuracy = []\n",
    "for i in [3,5,8,10,12,15,20,25,30,35,40,45,50]:\n",
    "    score = knn_run(X_train, X_test, y_train, y_test, i)\n",
    "    knn_accuracy.append(score)"
   ]
  },
  {
   "cell_type": "code",
   "execution_count": 9,
   "metadata": {
    "collapsed": false
   },
   "outputs": [
    {
     "data": {
      "text/plain": [
       "[(3, 0.80850018425254888),\n",
       " (5, 0.81243090529418993),\n",
       " (8, 0.82188920280063871),\n",
       " (10, 0.82667976907013885),\n",
       " (12, 0.82545141874462602),\n",
       " (15, 0.82938213978626707),\n",
       " (20, 0.83220734553494657),\n",
       " (25, 0.83404987102321582),\n",
       " (30, 0.8349097162510748),\n",
       " (35, 0.83171600540474144),\n",
       " (40, 0.83282152069770299),\n",
       " (45, 0.83159317037219016),\n",
       " (50, 0.83036482004667733)]"
      ]
     },
     "execution_count": 9,
     "metadata": {},
     "output_type": "execute_result"
    }
   ],
   "source": [
    "knn_accuracy"
   ]
  },
  {
   "cell_type": "markdown",
   "metadata": {},
   "source": [
    "best k for knn = 30"
   ]
  },
  {
   "cell_type": "markdown",
   "metadata": {},
   "source": [
    "# Random Forest"
   ]
  },
  {
   "cell_type": "code",
   "execution_count": 10,
   "metadata": {
    "collapsed": true
   },
   "outputs": [],
   "source": [
    "rf = RandomForestClassifier()"
   ]
  },
  {
   "cell_type": "code",
   "execution_count": 11,
   "metadata": {
    "collapsed": true
   },
   "outputs": [],
   "source": [
    "def rf_run(x_train, x_test, y_train, y_test, k):\n",
    "    \n",
    "    rf = RandomForestClassifier(n_estimators = k).fit(x_train, y_train)\n",
    "    y_pred = rf.predict(x_test)\n",
    "    y_accuracy = accuracy_score(y_pred, y_test)\n",
    "    \n",
    "    return (k, y_accuracy)"
   ]
  },
  {
   "cell_type": "code",
   "execution_count": 12,
   "metadata": {
    "collapsed": false
   },
   "outputs": [],
   "source": [
    "rf_accuracy = []\n",
    "for i in [3,5,8,10,15,20,30,40,50,60,70,80,90,100]:\n",
    "    score = rf_run(X_train, X_test, y_train, y_test, i)\n",
    "    rf_accuracy.append(score)"
   ]
  },
  {
   "cell_type": "code",
   "execution_count": 13,
   "metadata": {
    "collapsed": false
   },
   "outputs": [
    {
     "data": {
      "text/plain": [
       "[(3, 0.80284977275518976),\n",
       " (5, 0.79928755681120256),\n",
       " (8, 0.81255374032674121),\n",
       " (10, 0.81083404987102325),\n",
       " (15, 0.81427343078245917),\n",
       " (20, 0.815501781107972),\n",
       " (30, 0.81562461614052328),\n",
       " (40, 0.81709863653113868),\n",
       " (50, 0.82152069770298486),\n",
       " (60, 0.81808131679154894),\n",
       " (70, 0.82139786267043358),\n",
       " (80, 0.81758997666134381),\n",
       " (90, 0.81734430659624124),\n",
       " (100, 0.8198010072472669)]"
      ]
     },
     "execution_count": 13,
     "metadata": {},
     "output_type": "execute_result"
    }
   ],
   "source": [
    "rf_accuracy"
   ]
  }
 ],
 "metadata": {
  "kernelspec": {
   "display_name": "Python 3",
   "language": "python",
   "name": "python3"
  },
  "language_info": {
   "codemirror_mode": {
    "name": "ipython",
    "version": 3
   },
   "file_extension": ".py",
   "mimetype": "text/x-python",
   "name": "python",
   "nbconvert_exporter": "python",
   "pygments_lexer": "ipython3",
   "version": "3.6.0"
  }
 },
 "nbformat": 4,
 "nbformat_minor": 2
}
